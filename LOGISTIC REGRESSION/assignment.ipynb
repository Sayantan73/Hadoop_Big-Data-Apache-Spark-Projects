{
 "cells": [
  {
   "cell_type": "markdown",
   "metadata": {},
   "source": [
    "# Imported Spark SQL, machine learning libraries, and created sessions"
   ]
  },
  {
   "cell_type": "code",
   "execution_count": 1,
   "metadata": {},
   "outputs": [],
   "source": [
    "import findspark\n",
    "findspark.init()\n",
    "import pyspark"
   ]
  },
  {
   "cell_type": "code",
   "execution_count": 13,
   "metadata": {},
   "outputs": [],
   "source": [
    "# mengimport modul yang dibutuhkan\n",
    "from pyspark.sql.types import *\n",
    "from pyspark.sql.functions import *\n",
    "from pyspark.ml.regression import LinearRegression\n",
    "from pyspark.ml.feature import VectorAssembler\n",
    "from pyspark.sql import SparkSession\n",
    "from pyspark.sql import SQLContext\n",
    "\n",
    "# membuat SparkSession\n",
    "appName = \"Regresi di Apache Spark\"\n",
    "spark = SparkSession \\\n",
    ".builder \\\n",
    ".appName(appName) \\\n",
    ".config(\"spark.some.config.option\", \"some-value\") \\\n",
    ".getOrCreate()\n",
    "\n",
    "sc = spark.sparkContext"
   ]
  },
  {
   "cell_type": "markdown",
   "metadata": {},
   "source": [
    "# Loading data from files"
   ]
  },
  {
   "cell_type": "code",
   "execution_count": 3,
   "metadata": {},
   "outputs": [
    {
     "name": "stdout",
     "output_type": "stream",
     "text": [
      "+----------+---------+-------+---------------+-------------+--------+--------+\n",
      "|DayofMonth|DayOfWeek|Carrier|OriginAirportID|DestAirportID|DepDelay|ArrDelay|\n",
      "+----------+---------+-------+---------------+-------------+--------+--------+\n",
      "|        19|        5|     DL|          11433|        13303|      -3|       1|\n",
      "|        19|        5|     DL|          14869|        12478|       0|      -8|\n",
      "|        19|        5|     DL|          14057|        14869|      -4|     -15|\n",
      "+----------+---------+-------+---------------+-------------+--------+--------+\n",
      "only showing top 3 rows\n",
      "\n"
     ]
    }
   ],
   "source": [
    "# membuat skema file\n",
    "flightSchema = StructType([\n",
    "StructField(\"DayofMonth\", IntegerType(), False),\n",
    "StructField(\"DayOfWeek\", IntegerType(), False),\n",
    "StructField(\"Carrier\", StringType(), False),\n",
    "StructField(\"OriginAirportID\", IntegerType(), False),\n",
    "StructField(\"DestAirportID\", IntegerType(), False),\n",
    "StructField(\"DepDelay\", IntegerType(), False),\n",
    "StructField(\"ArrDelay\", IntegerType(), False),\n",
    "])\n",
    "\n",
    "# membaca data dari file ke DataFrame\n",
    "flightDataFrame = spark.read.csv('flights.csv', schema=flightSchema, header=True)\n",
    "flightDataFrame.show(3)"
   ]
  },
  {
   "cell_type": "markdown",
   "metadata": {},
   "source": [
    "# Prepare data"
   ]
  },
  {
   "cell_type": "code",
   "execution_count": 4,
   "metadata": {},
   "outputs": [
    {
     "name": "stdout",
     "output_type": "stream",
     "text": [
      "+----------+---------+---------------+-------------+--------+--------+\n",
      "|DayofMonth|DayOfWeek|OriginAirportID|DestAirportID|DepDelay|ArrDelay|\n",
      "+----------+---------+---------------+-------------+--------+--------+\n",
      "|        19|        5|          11433|        13303|      -3|       1|\n",
      "|        19|        5|          14869|        12478|       0|      -8|\n",
      "|        19|        5|          14057|        14869|      -4|     -15|\n",
      "+----------+---------+---------------+-------------+--------+--------+\n",
      "only showing top 3 rows\n",
      "\n"
     ]
    }
   ],
   "source": [
    "# memilih kolom data yang terkait\n",
    "data = flightDataFrame.select(\"DayofMonth\", \"DayOfWeek\",\n",
    "\"OriginAirportID\", \"DestAirportID\", \"DepDelay\", \"ArrDelay\")\n",
    "data.show(3)"
   ]
  },
  {
   "cell_type": "markdown",
   "metadata": {},
   "source": [
    "# Sharing training and testing data"
   ]
  },
  {
   "cell_type": "code",
   "execution_count": 5,
   "metadata": {},
   "outputs": [
    {
     "name": "stdout",
     "output_type": "stream",
     "text": [
      "Training Rows: 1890299  Testing Rows: 811919\n"
     ]
    }
   ],
   "source": [
    "# membagi data 70% untuk training, 30% untuk testing\n",
    "dataTerpisahkan = data.randomSplit([0.7, 0.3])\n",
    "trainingData = dataTerpisahkan[0] #data training di index 0\n",
    "testingData = dataTerpisahkan[1] #data testing di index 1\n",
    "train_rows = trainingData.count()\n",
    "test_rows = testingData.count()\n",
    "print (\"Training Rows:\", train_rows, \" Testing Rows:\", test_rows)"
   ]
  },
  {
   "cell_type": "markdown",
   "metadata": {},
   "source": [
    "# Prepare training data"
   ]
  },
  {
   "cell_type": "code",
   "execution_count": 6,
   "metadata": {},
   "outputs": [
    {
     "name": "stdout",
     "output_type": "stream",
     "text": [
      "+------------------------------+-----+\n",
      "|features                      |label|\n",
      "+------------------------------+-----+\n",
      "|[1.0,1.0,10140.0,10397.0,-4.0]|-11  |\n",
      "|[1.0,1.0,10140.0,10397.0,-2.0]|-18  |\n",
      "|[1.0,1.0,10140.0,10397.0,-2.0]|-17  |\n",
      "+------------------------------+-----+\n",
      "only showing top 3 rows\n",
      "\n"
     ]
    }
   ],
   "source": [
    "# mendefinisikan assembler\n",
    "assembler = VectorAssembler(inputCols = [\n",
    "\"DayofMonth\", \"DayOfWeek\", \"OriginAirportID\", \"DestAirportID\",\n",
    "\"DepDelay\"], outputCol=\"features\")\n",
    "\n",
    "# mengubah data kita menjadi feature satu kolom menggunakan assembler\n",
    "trainingDataFinal = assembler.transform(trainingData).select(\n",
    "col(\"features\"), (col(\"ArrDelay\").cast(\"Int\").alias(\"label\")))\n",
    "trainingDataFinal.show(truncate=False , n=3)"
   ]
  },
  {
   "cell_type": "markdown",
   "metadata": {},
   "source": [
    "# Training our regression model"
   ]
  },
  {
   "cell_type": "code",
   "execution_count": 7,
   "metadata": {},
   "outputs": [
    {
     "name": "stdout",
     "output_type": "stream",
     "text": [
      "Model regresi selesai ditraining!\n"
     ]
    }
   ],
   "source": [
    "# memanggil regresi linear dari Spark untuk algoritma kita\n",
    "algoritma = LinearRegression(\n",
    "labelCol=\"label\",featuresCol=\"features\", maxIter=10, regParam=0.3)\n",
    "\n",
    "# mentraining model kita dengan training data final\n",
    "model = algoritma.fit(trainingDataFinal)\n",
    "print(\"Model regresi selesai ditraining!\")"
   ]
  },
  {
   "cell_type": "markdown",
   "metadata": {},
   "source": [
    "# Prepare testing data"
   ]
  },
  {
   "cell_type": "code",
   "execution_count": 8,
   "metadata": {},
   "outputs": [
    {
     "name": "stdout",
     "output_type": "stream",
     "text": [
      "+-----------------------------+---------+\n",
      "|features                     |trueLabel|\n",
      "+-----------------------------+---------+\n",
      "|[1.0,1.0,10140.0,10397.0,0.0]|-9       |\n",
      "|[1.0,1.0,10140.0,10821.0,4.0]|4        |\n",
      "+-----------------------------+---------+\n",
      "only showing top 2 rows\n",
      "\n"
     ]
    }
   ],
   "source": [
    "# mengubah data ke satu kolom fitur menggunakan assembler\n",
    "testingDataFinal = assembler.transform(\n",
    "testingData).select(\n",
    "col(\"features\"), (col(\"ArrDelay\")).cast(\"Int\").alias(\"trueLabel\"))\n",
    "testingDataFinal.show(truncate=False, n=2)"
   ]
  },
  {
   "cell_type": "markdown",
   "metadata": {},
   "source": [
    "# Predict regression results with the model we have trained"
   ]
  },
  {
   "cell_type": "code",
   "execution_count": 10,
   "metadata": {},
   "outputs": [
    {
     "name": "stdout",
     "output_type": "stream",
     "text": [
      "+--------------------+------------------+---------+\n",
      "|            features|        prediction|trueLabel|\n",
      "+--------------------+------------------+---------+\n",
      "|[1.0,1.0,10140.0,...|-3.550650606641696|       -9|\n",
      "|[1.0,1.0,10140.0,...|0.3439867789976718|        4|\n",
      "|[1.0,1.0,10140.0,...|-8.740304813274436|      -23|\n",
      "+--------------------+------------------+---------+\n",
      "only showing top 3 rows\n",
      "\n"
     ]
    }
   ],
   "source": [
    "# memprediksi data testing final dengan model yg telah kita training\n",
    "predisksiMentah = model.transform(testingDataFinal)\n",
    "\n",
    "#memilih kolom tertentu, yang terkait saja\n",
    "prediksiFinal = predisksiMentah.select(\"features\", \"prediction\", \"trueLabel\")\n",
    "\n",
    "# menampilkan 3 hasil prediksi\n",
    "prediksiFinal.show(3)"
   ]
  },
  {
   "cell_type": "markdown",
   "metadata": {},
   "source": [
    "# Measuring the accuracy of our regression model"
   ]
  },
  {
   "cell_type": "code",
   "execution_count": 11,
   "metadata": {},
   "outputs": [
    {
     "name": "stdout",
     "output_type": "stream",
     "text": [
      "Root Mean Square Error (RMSE): 13.319806905481526\n"
     ]
    }
   ],
   "source": [
    "# mengimpor modul untuk mengevaluasi akurasi regresi kita\n",
    "from pyspark.ml.evaluation import RegressionEvaluator\n",
    "\n",
    "# mendefinisikan evaluator dengan menginputkan kolom dari \"label\"\n",
    "# dan \"prediksi\" data kita, serta matrik evaluasi yg kita inginkan (rmse)\n",
    "evaluator = RegressionEvaluator(\n",
    "labelCol=\"trueLabel\", predictionCol=\"prediction\", metricName=\"rmse\")\n",
    "\n",
    "# menghitung rmse dg evalutor yang telah kita definisikan\n",
    "rmse = evaluator.evaluate(prediksiFinal)\n",
    "print(\"Root Mean Square Error (RMSE):\", rmse)"
   ]
  },
  {
   "cell_type": "markdown",
   "metadata": {},
   "source": [
    "# Predict just one piece of data"
   ]
  },
  {
   "cell_type": "code",
   "execution_count": 14,
   "metadata": {},
   "outputs": [
    {
     "name": "stdout",
     "output_type": "stream",
     "text": [
      "+--------------------+------------------+---------+\n",
      "|            features|        prediction|trueLabel|\n",
      "+--------------------+------------------+---------+\n",
      "|[1.0,1.0,10140.0,...|-3.550650606641696|       -9|\n",
      "+--------------------+------------------+---------+\n",
      "\n"
     ]
    }
   ],
   "source": [
    "# mengambil 1 baris data DataFrame (output berupa data list)\n",
    "baris1List = testingData.take(1)\n",
    "\n",
    "# mengubah list ke RDD, kemudian ke dataFrame\n",
    "baris1DataFrame = sc.parallelize(baris1List).toDF()\n",
    "\n",
    "# mengubah data kita ke format fitur data yg telah digunakan sblmnya menggunakan assembler\n",
    "testingBaris1 = assembler.transform(\n",
    "baris1DataFrame).select(col(\"features\"),\n",
    "(col(\"ArrDelay\")).cast(\"Int\").alias(\"trueLabel\"))\n",
    "\n",
    "# memprediksi data dengan model yg telah kita training\n",
    "prediskiMentah = model.transform(testingBaris1)\n",
    "prediksiFinal = prediskiMentah.select(\"features\", \"prediction\", \"trueLabel\")\n",
    "\n",
    "prediksiFinal.show()"
   ]
  },
  {
   "cell_type": "markdown",
   "metadata": {},
   "source": [
    "# Displays 5 rows of training data"
   ]
  },
  {
   "cell_type": "code",
   "execution_count": 15,
   "metadata": {},
   "outputs": [
    {
     "name": "stdout",
     "output_type": "stream",
     "text": [
      "+----------+---------+---------------+-------------+--------+--------+\n",
      "|DayofMonth|DayOfWeek|OriginAirportID|DestAirportID|DepDelay|ArrDelay|\n",
      "+----------+---------+---------------+-------------+--------+--------+\n",
      "|         1|        1|          10140|        10397|      -4|     -11|\n",
      "|         1|        1|          10140|        10397|      -2|     -18|\n",
      "|         1|        1|          10140|        10397|      -2|     -17|\n",
      "|         1|        1|          10140|        10397|       0|     -12|\n",
      "|         1|        1|          10140|        10821|       8|      -9|\n",
      "+----------+---------+---------------+-------------+--------+--------+\n",
      "only showing top 5 rows\n",
      "\n"
     ]
    }
   ],
   "source": [
    "trainingData.show(5)"
   ]
  },
  {
   "cell_type": "markdown",
   "metadata": {},
   "source": [
    "# Displays 4 rows of test data"
   ]
  },
  {
   "cell_type": "code",
   "execution_count": 16,
   "metadata": {},
   "outputs": [
    {
     "name": "stdout",
     "output_type": "stream",
     "text": [
      "+----------+---------+---------------+-------------+--------+--------+\n",
      "|DayofMonth|DayOfWeek|OriginAirportID|DestAirportID|DepDelay|ArrDelay|\n",
      "+----------+---------+---------------+-------------+--------+--------+\n",
      "|         1|        1|          10140|        10397|       0|      -9|\n",
      "|         1|        1|          10140|        10821|       4|       4|\n",
      "|         1|        1|          10140|        11259|      -5|     -23|\n",
      "|         1|        1|          10140|        11259|      -5|     -14|\n",
      "+----------+---------+---------------+-------------+--------+--------+\n",
      "only showing top 4 rows\n",
      "\n"
     ]
    }
   ],
   "source": [
    "testingData.show(4)"
   ]
  },
  {
   "cell_type": "markdown",
   "metadata": {},
   "source": [
    "# Displays coefficients and constants"
   ]
  },
  {
   "cell_type": "code",
   "execution_count": 17,
   "metadata": {},
   "outputs": [
    {
     "name": "stdout",
     "output_type": "stream",
     "text": [
      "Jumlah fitur: 5\n",
      "Koefisien: [0.010972239517679812,-0.1415044049108317,0.00019352715667810667,-0.00023086025472954724,0.998130533411174]\n",
      "Konstanta: -2.982229741541443\n"
     ]
    }
   ],
   "source": [
    "# Print the coefficients and intercept/constant for linear regression\n",
    "print(\"Jumlah fitur: \" + str(model.numFeatures))\n",
    "print(\"Koefisien: \" + str(model.coefficients)) # DayofMonth,DayOfWeek,OriginAirportID,DestAirportID,DepDelay\n",
    "print(\"Konstanta: \" + str(model.intercept))"
   ]
  },
  {
   "cell_type": "markdown",
   "metadata": {},
   "source": [
    "# Changed the number of variables to just two"
   ]
  },
  {
   "cell_type": "code",
   "execution_count": 18,
   "metadata": {},
   "outputs": [
    {
     "name": "stdout",
     "output_type": "stream",
     "text": [
      "Jumlah data training: 1890299 | Jumlah data testing: 811919\n"
     ]
    }
   ],
   "source": [
    "# membagi data secara random, 70% untuk training, 30% untuk testing\n",
    "dataTerpisahkan = data.randomSplit([0.7, 0.3])\n",
    "trainingData2 = dataTerpisahkan[0] #data training di index 0\n",
    "testingData2 = dataTerpisahkan[1] #data testing di index 1\n",
    "train_rows2 = trainingData.count()\n",
    "test_rows2 = testingData.count()\n",
    "\n",
    "print (\"Jumlah data training:\", train_rows2, \"| Jumlah data testing:\", test_rows2)"
   ]
  },
  {
   "cell_type": "code",
   "execution_count": 19,
   "metadata": {},
   "outputs": [
    {
     "name": "stdout",
     "output_type": "stream",
     "text": [
      "+-----------------+-----+\n",
      "|features         |label|\n",
      "+-----------------+-----+\n",
      "|[10140.0,10397.0]|-11  |\n",
      "|[10140.0,10397.0]|-18  |\n",
      "|[10140.0,10397.0]|-17  |\n",
      "+-----------------+-----+\n",
      "only showing top 3 rows\n",
      "\n"
     ]
    }
   ],
   "source": [
    "# mendefinisikan assembler\n",
    "# hanya menggunakan dua variabel yaitu OriginAirportID & DestAirportID\n",
    "assembler2 = VectorAssembler(inputCols = [\"OriginAirportID\", \"DestAirportID\"], outputCol=\"features\")\n",
    "\n",
    "#mengubah data kita menjadi feature satu kolom menggunakan assembler yang kita definisikan\n",
    "trainingDataFinal2 = assembler2.transform(trainingData2).select(col(\"features\"), (col(\"ArrDelay\").cast(\"Int\").alias(\"label\")))\n",
    "trainingDataFinal2.show(truncate=False, n=3)"
   ]
  },
  {
   "cell_type": "code",
   "execution_count": 20,
   "metadata": {},
   "outputs": [
    {
     "name": "stdout",
     "output_type": "stream",
     "text": [
      "Model regresi selesai ditraining!\n"
     ]
    }
   ],
   "source": [
    "model2 = algoritma.fit(trainingDataFinal2)\n",
    "print(\"Model regresi selesai ditraining!\")"
   ]
  },
  {
   "cell_type": "code",
   "execution_count": 21,
   "metadata": {},
   "outputs": [
    {
     "name": "stdout",
     "output_type": "stream",
     "text": [
      "+-----------------+---------+\n",
      "|features         |trueLabel|\n",
      "+-----------------+---------+\n",
      "|[10140.0,10397.0]|-9       |\n",
      "|[10140.0,11259.0]|-11      |\n",
      "+-----------------+---------+\n",
      "only showing top 2 rows\n",
      "\n"
     ]
    }
   ],
   "source": [
    "# mengubah data ke satu kolom fitur menggunakan assembler yg telah kita definisikan sblmnya\n",
    "testingDataFinal2 = assembler2.transform(testingData2).select(col(\"features\"), (col(\"ArrDelay\")).cast(\"Int\").alias(\"trueLabel\"))\n",
    "testingDataFinal2.show(truncate=False, n=2)"
   ]
  },
  {
   "cell_type": "code",
   "execution_count": 22,
   "metadata": {},
   "outputs": [
    {
     "name": "stdout",
     "output_type": "stream",
     "text": [
      "+-----------------+------------------+---------+\n",
      "|         features|        prediction|trueLabel|\n",
      "+-----------------+------------------+---------+\n",
      "|[10140.0,10397.0]|7.5309839440462465|       -9|\n",
      "|[10140.0,11259.0]| 7.443073537441167|      -11|\n",
      "|[10140.0,11259.0]| 7.443073537441167|        5|\n",
      "+-----------------+------------------+---------+\n",
      "only showing top 3 rows\n",
      "\n"
     ]
    }
   ],
   "source": [
    "# memprediksi data testing final dengan model yg telah kita training\n",
    "prediksiMentah2 = model2.transform(testingDataFinal2)\n",
    "# memilih kolom tertentu, yang terkait saja\n",
    "prediksiFinal2 = prediksiMentah2.select(\"features\", \"prediction\", \"trueLabel\")\n",
    "# menampilkan 3 hasil prediksi\n",
    "prediksiFinal2.show(3)"
   ]
  },
  {
   "cell_type": "code",
   "execution_count": 23,
   "metadata": {},
   "outputs": [
    {
     "name": "stdout",
     "output_type": "stream",
     "text": [
      "Root Mean Square Error (RMSE): 38.6106863771816\n"
     ]
    }
   ],
   "source": [
    "# mengimpor modul untuk mengevaluasi akurasi regresi kita\n",
    "from pyspark.ml.evaluation import RegressionEvaluator\n",
    "\n",
    "# mendefinisikan evaluator dengan menginputkan kolom dari \"label\"\n",
    "# dan \"prediksi\" data kita, serta matrik evaluasi yg kita inginkan (rmse)\n",
    "evaluator2 = RegressionEvaluator(labelCol=\"trueLabel\", predictionCol=\"prediction\", metricName=\"rmse\")\n",
    "\n",
    "# menghitung rmse dg evalutor yang telah kita definisikan\n",
    "rmse = evaluator2.evaluate(prediksiFinal2)\n",
    "print(\"Root Mean Square Error (RMSE):\", rmse)"
   ]
  }
 ],
 "metadata": {
  "kernelspec": {
   "display_name": "Python 3",
   "language": "python",
   "name": "python3"
  },
  "language_info": {
   "codemirror_mode": {
    "name": "ipython",
    "version": 3
   },
   "file_extension": ".py",
   "mimetype": "text/x-python",
   "name": "python",
   "nbconvert_exporter": "python",
   "pygments_lexer": "ipython3",
   "version": "3.8.5"
  }
 },
 "nbformat": 4,
 "nbformat_minor": 4
}
