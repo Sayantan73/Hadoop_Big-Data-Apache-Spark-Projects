{
 "cells": [
  {
   "cell_type": "markdown",
   "metadata": {},
   "source": [
    "## Mengimport library dan package machine learning"
   ]
  },
  {
   "cell_type": "code",
   "execution_count": 1,
   "metadata": {},
   "outputs": [],
   "source": [
    "import findspark\n",
    "findspark.init()\n",
    "import pyspark"
   ]
  },
  {
   "cell_type": "code",
   "execution_count": 2,
   "metadata": {},
   "outputs": [],
   "source": [
    "# mengimport modul yang dibutuhkan\n",
    "from pyspark.ml.feature import VectorAssembler\n",
    "from pyspark.sql import SparkSession\n",
    "from pyspark.sql import SQLContext\n",
    "\n",
    "# membuat session\n",
    "appName = \"Klasifikasi Kualitas Udara di London dengan PySpark\"\n",
    "spark = SparkSession \\\n",
    ".builder \\\n",
    ".appName(appName) \\\n",
    ".config(\"spark.some.config.option\", \"some-value\") \\\n",
    ".getOrCreate()"
   ]
  },
  {
   "cell_type": "code",
   "execution_count": 141,
   "metadata": {},
   "outputs": [],
   "source": [
    "sc = spark.sparkContext"
   ]
  },
  {
   "cell_type": "markdown",
   "metadata": {},
   "source": [
    "## Memuat dataset kualitas udara dari file CSV"
   ]
  },
  {
   "cell_type": "markdown",
   "metadata": {},
   "source": [
    "**SUMBER DATASET: https://datahub.io/london/air-quality**"
   ]
  },
  {
   "cell_type": "code",
   "execution_count": 123,
   "metadata": {},
   "outputs": [
    {
     "name": "stdout",
     "output_type": "stream",
     "text": [
      "+----------+-----+---+---+----+----+-------+\n",
      "|      date| time|NO2| O3|PM10|PM25|quality|\n",
      "+----------+-----+---+---+----+----+-------+\n",
      "|01/01/2008|00:00| 96| 66|  52|  37|      0|\n",
      "|01/01/2008|01:00| 92| 66|  50|  36|      0|\n",
      "|01/01/2008|02:00| 91| 65|  50|  36|      0|\n",
      "|01/01/2008|03:00| 91| 64|  50|  36|      0|\n",
      "|01/01/2008|04:00| 91| 61|  50|  36|      0|\n",
      "+----------+-----+---+---+----+----+-------+\n",
      "only showing top 5 rows\n",
      "\n"
     ]
    }
   ],
   "source": [
    "# memuat data dari file ke DataFrame dengan infer skema\n",
    "df = spark.read.options(delimiter=';', inferSchema=True, header=True) \\\n",
    "            .csv(\"dataset.csv\");\n",
    "df.show(5)"
   ]
  },
  {
   "cell_type": "code",
   "execution_count": 124,
   "metadata": {},
   "outputs": [
    {
     "name": "stdout",
     "output_type": "stream",
     "text": [
      "root\n",
      " |-- date: string (nullable = true)\n",
      " |-- time: string (nullable = true)\n",
      " |-- NO2: integer (nullable = true)\n",
      " |-- O3: integer (nullable = true)\n",
      " |-- PM10: integer (nullable = true)\n",
      " |-- PM25: integer (nullable = true)\n",
      " |-- quality: integer (nullable = true)\n",
      "\n"
     ]
    }
   ],
   "source": [
    "# melihat informasi umum dari dataset\n",
    "df.printSchema()"
   ]
  },
  {
   "cell_type": "code",
   "execution_count": 106,
   "metadata": {},
   "outputs": [
    {
     "name": "stdout",
     "output_type": "stream",
     "text": [
      "+-------+----------+-----+------------------+------------------+------------------+------------------+-------------------+\n",
      "|summary|      date| time|               NO2|                O3|              PM10|              PM25|            quality|\n",
      "+-------+----------+-----+------------------+------------------+------------------+------------------+-------------------+\n",
      "|  count|      3168| 3168|              3168|              3168|              3168|              3168|               3168|\n",
      "|   mean|      null| null|58.578947368421055|29.607142857142858|26.580645161290324|17.157894736842106|0.47285353535353536|\n",
      "| stddev|      null| null|  9.26951868266024|12.105521500276248|   6.9174860247944| 5.833458645270561|  0.499341341995463|\n",
      "|    min|2008-01-01|00:00|       20,99677419|       10,00322581|       11,81290323|       10,00645161|                  0|\n",
      "|    max|2018-12-01|23:00|       95,55172414|       9,993333333|       52,09354839|       9,987096774|                  1|\n",
      "+-------+----------+-----+------------------+------------------+------------------+------------------+-------------------+\n",
      "\n"
     ]
    }
   ],
   "source": [
    "# melihat informasi statistik dari dataset\n",
    "df.describe().show()"
   ]
  },
  {
   "cell_type": "markdown",
   "metadata": {},
   "source": [
    "## Mempersiapkan dataset"
   ]
  },
  {
   "cell_type": "code",
   "execution_count": 140,
   "metadata": {},
   "outputs": [],
   "source": [
    "from pyspark.sql.functions import udf, rand\n",
    "from pyspark.sql.types import StringType, DoubleType"
   ]
  },
  {
   "cell_type": "code",
   "execution_count": 126,
   "metadata": {},
   "outputs": [
    {
     "name": "stdout",
     "output_type": "stream",
     "text": [
      "+----------+-----+----+----+----+----+-------+\n",
      "|      date| time| NO2|  O3|PM10|PM25|quality|\n",
      "+----------+-----+----+----+----+----+-------+\n",
      "|01/01/2008|00:00|96.0|66.0|52.0|37.0|    bad|\n",
      "|01/01/2008|01:00|92.0|66.0|50.0|36.0|    bad|\n",
      "|01/01/2008|02:00|91.0|65.0|50.0|36.0|    bad|\n",
      "|01/01/2008|03:00|91.0|64.0|50.0|36.0|    bad|\n",
      "|01/01/2008|04:00|91.0|61.0|50.0|36.0|    bad|\n",
      "+----------+-----+----+----+----+----+-------+\n",
      "only showing top 5 rows\n",
      "\n"
     ]
    }
   ],
   "source": [
    "# Mengkonversi integer menjadi double dan mengkonversi kolom 'quality' menjadi kategorial\n",
    "def condition(r):\n",
    "    if (r == 0):\n",
    "        label = \"bad\"\n",
    "    else:\n",
    "        label = \"good\"\n",
    "    return label\n",
    "\n",
    "df = df.withColumn(\"NO2\", df[\"NO2\"].cast('double'))\n",
    "df = df.withColumn(\"O3\", df[\"O3\"].cast('double'))\n",
    "df = df.withColumn(\"PM10\", df[\"PM10\"].cast('double'))\n",
    "df = df.withColumn(\"PM25\", df[\"PM25\"].cast('double'))\n",
    "\n",
    "string_udf = udf(condition, StringType())\n",
    "df = df.withColumn('quality', string_udf('quality'))\n",
    "\n",
    "df.show(5)"
   ]
  },
  {
   "cell_type": "code",
   "execution_count": 127,
   "metadata": {},
   "outputs": [
    {
     "name": "stdout",
     "output_type": "stream",
     "text": [
      "root\n",
      " |-- date: string (nullable = true)\n",
      " |-- time: string (nullable = true)\n",
      " |-- NO2: double (nullable = true)\n",
      " |-- O3: double (nullable = true)\n",
      " |-- PM10: double (nullable = true)\n",
      " |-- PM25: double (nullable = true)\n",
      " |-- quality: string (nullable = true)\n",
      "\n"
     ]
    }
   ],
   "source": [
    "# melihat informasi umum dari dataset\n",
    "df.printSchema()"
   ]
  },
  {
   "cell_type": "code",
   "execution_count": 128,
   "metadata": {},
   "outputs": [],
   "source": [
    "# Mengkonversi kolom dengan tipe data double menjadi vector\n",
    "def get_dummy(df,indexCol,categoricalCols,continuousCols,labelCol):\n",
    "\n",
    "    from pyspark.ml import Pipeline\n",
    "    from pyspark.ml.feature import StringIndexer, OneHotEncoder, VectorAssembler\n",
    "    from pyspark.sql.functions import col\n",
    "\n",
    "    indexers = [ StringIndexer(inputCol=c, outputCol=\"{0}_indexed\".format(c))\n",
    "                 for c in categoricalCols ]\n",
    "\n",
    "    # default setting: dropLast=True\n",
    "    encoders = [ OneHotEncoder(inputCol=indexer.getOutputCol(),\n",
    "                 outputCol=\"{0}_encoded\".format(indexer.getOutputCol()))\n",
    "                 for indexer in indexers ]\n",
    "\n",
    "    assembler = VectorAssembler(inputCols=[encoder.getOutputCol() for encoder in encoders]\n",
    "                                + continuousCols, outputCol=\"features\")\n",
    "\n",
    "    pipeline = Pipeline(stages=indexers + encoders + [assembler])\n",
    "\n",
    "    model=pipeline.fit(df)\n",
    "    data = model.transform(df)\n",
    "\n",
    "    data = data.withColumn('label',col(labelCol))\n",
    "\n",
    "    return data.select(indexCol,'features','label')"
   ]
  },
  {
   "cell_type": "code",
   "execution_count": 131,
   "metadata": {},
   "outputs": [],
   "source": [
    "# Mentransformasikan hasil konversi ke dalam dataframe\n",
    "from pyspark.ml.linalg import Vectors\n",
    "from pyspark.ml import Pipeline\n",
    "from pyspark.ml.feature import IndexToString,StringIndexer, VectorIndexer\n",
    "from pyspark.ml.tuning import CrossValidator, ParamGridBuilder\n",
    "from pyspark.ml.evaluation import MulticlassClassificationEvaluator\n",
    "\n",
    "def transData(data):\n",
    "    return data.rdd.map(lambda r: [Vectors.dense(r[2:-1]),r[-1]]).toDF(['features','label'])"
   ]
  },
  {
   "cell_type": "code",
   "execution_count": 132,
   "metadata": {},
   "outputs": [
    {
     "name": "stdout",
     "output_type": "stream",
     "text": [
      "+--------------------+-----+\n",
      "|            features|label|\n",
      "+--------------------+-----+\n",
      "|[96.0,66.0,52.0,3...|  bad|\n",
      "|[92.0,66.0,50.0,3...|  bad|\n",
      "|[91.0,65.0,50.0,3...|  bad|\n",
      "|[91.0,64.0,50.0,3...|  bad|\n",
      "|[91.0,61.0,50.0,3...|  bad|\n",
      "+--------------------+-----+\n",
      "only showing top 5 rows\n",
      "\n"
     ]
    }
   ],
   "source": [
    "transformed = transData(df)\n",
    "transformed.show(5)"
   ]
  },
  {
   "cell_type": "code",
   "execution_count": 135,
   "metadata": {},
   "outputs": [
    {
     "name": "stdout",
     "output_type": "stream",
     "text": [
      "+--------------------+-----+------------+\n",
      "|            features|label|indexedLabel|\n",
      "+--------------------+-----+------------+\n",
      "|[96.0,66.0,52.0,3...|  bad|         0.0|\n",
      "|[92.0,66.0,50.0,3...|  bad|         0.0|\n",
      "|[91.0,65.0,50.0,3...|  bad|         0.0|\n",
      "|[91.0,64.0,50.0,3...|  bad|         0.0|\n",
      "|[91.0,61.0,50.0,3...|  bad|         0.0|\n",
      "+--------------------+-----+------------+\n",
      "only showing top 5 rows\n",
      "\n"
     ]
    }
   ],
   "source": [
    "# memberi nilai index ke kolom features dan label\n",
    "labelIndexer = StringIndexer(inputCol='label',\n",
    "                             outputCol='indexedLabel').fit(transformed)\n",
    "labelIndexer.transform(transformed).show(5)"
   ]
  },
  {
   "cell_type": "code",
   "execution_count": 136,
   "metadata": {},
   "outputs": [
    {
     "name": "stdout",
     "output_type": "stream",
     "text": [
      "+--------------------+-----+--------------------+\n",
      "|            features|label|     indexedFeatures|\n",
      "+--------------------+-----+--------------------+\n",
      "|[96.0,66.0,52.0,3...|  bad|[96.0,66.0,52.0,3...|\n",
      "|[92.0,66.0,50.0,3...|  bad|[92.0,66.0,50.0,3...|\n",
      "|[91.0,65.0,50.0,3...|  bad|[91.0,65.0,50.0,3...|\n",
      "|[91.0,64.0,50.0,3...|  bad|[91.0,64.0,50.0,3...|\n",
      "|[91.0,61.0,50.0,3...|  bad|[91.0,61.0,50.0,3...|\n",
      "+--------------------+-----+--------------------+\n",
      "only showing top 5 rows\n",
      "\n"
     ]
    }
   ],
   "source": [
    "# Automatically identify categorical features, and index them.\n",
    "# Set maxCategories so features with > 4 distinct values are treated as continuous.\n",
    "featureIndexer =VectorIndexer(inputCol=\"features\", \\\n",
    "                              outputCol=\"indexedFeatures\", \\\n",
    "                              maxCategories=4).fit(transformed)\n",
    "featureIndexer.transform(transformed).show(5)"
   ]
  },
  {
   "cell_type": "markdown",
   "metadata": {},
   "source": [
    "## Proses Klasifikasi"
   ]
  },
  {
   "cell_type": "code",
   "execution_count": 139,
   "metadata": {},
   "outputs": [
    {
     "name": "stdout",
     "output_type": "stream",
     "text": [
      "+-------------------+-----+\n",
      "|           features|label|\n",
      "+-------------------+-----+\n",
      "|[21.0,6.0,12.0,6.0]| good|\n",
      "|[22.0,7.0,12.0,6.0]| good|\n",
      "|[23.0,7.0,12.0,7.0]| good|\n",
      "|[23.0,8.0,13.0,7.0]| good|\n",
      "|[24.0,8.0,13.0,7.0]| good|\n",
      "+-------------------+-----+\n",
      "only showing top 5 rows\n",
      "\n",
      "+-------------------+-----+\n",
      "|           features|label|\n",
      "+-------------------+-----+\n",
      "|[22.0,7.0,12.0,7.0]| good|\n",
      "|[23.0,8.0,13.0,7.0]| good|\n",
      "|[24.0,8.0,13.0,7.0]| good|\n",
      "|[24.0,8.0,13.0,7.0]| good|\n",
      "|[25.0,8.0,13.0,7.0]| good|\n",
      "+-------------------+-----+\n",
      "only showing top 5 rows\n",
      "\n"
     ]
    }
   ],
   "source": [
    "# Membagi menjadi data training dan data testing\n",
    "(trainingData, testData) = transformed.randomSplit([0.8, 0.2])\n",
    "\n",
    "trainingData.show(5)\n",
    "testData.show(5)"
   ]
  },
  {
   "cell_type": "code",
   "execution_count": 144,
   "metadata": {},
   "outputs": [],
   "source": [
    "from pyspark.ml.classification import NaiveBayes\n",
    "nb = NaiveBayes(featuresCol='indexedFeatures', labelCol='indexedLabel')"
   ]
  },
  {
   "cell_type": "code",
   "execution_count": 145,
   "metadata": {},
   "outputs": [],
   "source": [
    "# Convert indexed labels back to original labels.\n",
    "labelConverter = IndexToString(inputCol=\"prediction\", outputCol=\"predictedLabel\",\n",
    "                               labels=labelIndexer.labels)"
   ]
  },
  {
   "cell_type": "code",
   "execution_count": 146,
   "metadata": {},
   "outputs": [],
   "source": [
    "# Chain indexers and tree in a Pipeline\n",
    "pipeline = Pipeline(stages=[labelIndexer, featureIndexer, nb,labelConverter])"
   ]
  },
  {
   "cell_type": "code",
   "execution_count": 147,
   "metadata": {},
   "outputs": [],
   "source": [
    "# Train model.  This also runs the indexers.\n",
    "model = pipeline.fit(trainingData)"
   ]
  },
  {
   "cell_type": "code",
   "execution_count": 148,
   "metadata": {},
   "outputs": [
    {
     "name": "stdout",
     "output_type": "stream",
     "text": [
      "+-------------------+-----+--------------+\n",
      "|           features|label|predictedLabel|\n",
      "+-------------------+-----+--------------+\n",
      "|[22.0,7.0,12.0,7.0]| good|          good|\n",
      "|[23.0,8.0,13.0,7.0]| good|          good|\n",
      "|[24.0,8.0,13.0,7.0]| good|          good|\n",
      "|[24.0,8.0,13.0,7.0]| good|          good|\n",
      "|[25.0,8.0,13.0,7.0]| good|          good|\n",
      "+-------------------+-----+--------------+\n",
      "only showing top 5 rows\n",
      "\n"
     ]
    }
   ],
   "source": [
    "# Make predictions.\n",
    "predictions = model.transform(testData)\n",
    "# Select example rows to display.\n",
    "predictions.select(\"features\",\"label\",\"predictedLabel\").show(5)"
   ]
  },
  {
   "cell_type": "code",
   "execution_count": 149,
   "metadata": {},
   "outputs": [
    {
     "name": "stdout",
     "output_type": "stream",
     "text": [
      "Test Error = 0.0125984\n"
     ]
    }
   ],
   "source": [
    "from pyspark.ml.evaluation import MulticlassClassificationEvaluator\n",
    "\n",
    "# Select (prediction, true label) and compute test error\n",
    "evaluator = MulticlassClassificationEvaluator(\n",
    "    labelCol=\"indexedLabel\", predictionCol=\"prediction\", metricName=\"accuracy\")\n",
    "accuracy = evaluator.evaluate(predictions)\n",
    "print(\"Test Error = %g\" % (1.0 - accuracy))"
   ]
  },
  {
   "cell_type": "code",
   "execution_count": 150,
   "metadata": {},
   "outputs": [],
   "source": [
    "import matplotlib.pyplot as plt\n",
    "import numpy as np\n",
    "import itertools\n",
    "\n",
    "def plot_confusion_matrix(cm, classes,\n",
    "                          normalize=False,\n",
    "                          title='Confusion matrix',\n",
    "                          cmap=plt.cm.Blues):\n",
    "    \"\"\"\n",
    "    This function prints and plots the confusion matrix.\n",
    "    Normalization can be applied by setting `normalize=True`.\n",
    "    \"\"\"\n",
    "    if normalize:\n",
    "        cm = cm.astype('float') / cm.sum(axis=1)[:, np.newaxis]\n",
    "        print(\"Normalized confusion matrix\")\n",
    "    else:\n",
    "        print('Confusion matrix, without normalization')\n",
    "\n",
    "    print(cm)\n",
    "\n",
    "    plt.imshow(cm, interpolation='nearest', cmap=cmap)\n",
    "    plt.title(title)\n",
    "    plt.colorbar()\n",
    "    tick_marks = np.arange(len(classes))\n",
    "    plt.xticks(tick_marks, classes, rotation=45)\n",
    "    plt.yticks(tick_marks, classes)\n",
    "\n",
    "    fmt = '.2f' if normalize else 'd'\n",
    "    thresh = cm.max() / 2.\n",
    "    for i, j in itertools.product(range(cm.shape[0]), range(cm.shape[1])):\n",
    "        plt.text(j, i, format(cm[i, j], fmt),\n",
    "                 horizontalalignment=\"center\",\n",
    "                 color=\"white\" if cm[i, j] > thresh else \"black\")\n",
    "\n",
    "    plt.tight_layout()\n",
    "    plt.ylabel('True label')\n",
    "    plt.xlabel('Predicted label')"
   ]
  },
  {
   "cell_type": "code",
   "execution_count": 161,
   "metadata": {},
   "outputs": [
    {
     "data": {
      "text/plain": [
       "['bad', 'good']"
      ]
     },
     "execution_count": 161,
     "metadata": {},
     "output_type": "execute_result"
    }
   ],
   "source": [
    "class_temp = predictions.select(\"label\").groupBy(\"label\")\\\n",
    "                        .count().sort('count', ascending=False).toPandas()\n",
    "class_temp = class_temp[\"label\"].values.tolist()\n",
    "class_temp"
   ]
  },
  {
   "cell_type": "code",
   "execution_count": 154,
   "metadata": {},
   "outputs": [
    {
     "name": "stdout",
     "output_type": "stream",
     "text": [
      "+-------------------+-----+------------+-------------------+--------------------+--------------------+----------+--------------+\n",
      "|           features|label|indexedLabel|    indexedFeatures|       rawPrediction|         probability|prediction|predictedLabel|\n",
      "+-------------------+-----+------------+-------------------+--------------------+--------------------+----------+--------------+\n",
      "|[22.0,7.0,12.0,7.0]| good|         1.0|[22.0,7.0,12.0,7.0]|[-62.722147577051...|[0.33494788008206...|       1.0|          good|\n",
      "|[23.0,8.0,13.0,7.0]| good|         1.0|[23.0,8.0,13.0,7.0]|[-66.619037327068...|[0.34521846043916...|       1.0|          good|\n",
      "|[24.0,8.0,13.0,7.0]| good|         1.0|[24.0,8.0,13.0,7.0]|[-67.440172120066...|[0.33095903888576...|       1.0|          good|\n",
      "|[24.0,8.0,13.0,7.0]| good|         1.0|[24.0,8.0,13.0,7.0]|[-67.440172120066...|[0.33095903888576...|       1.0|          good|\n",
      "|[25.0,8.0,13.0,7.0]| good|         1.0|[25.0,8.0,13.0,7.0]|[-68.261306913063...|[0.31700345726016...|       1.0|          good|\n",
      "+-------------------+-----+------------+-------------------+--------------------+--------------------+----------+--------------+\n",
      "only showing top 5 rows\n",
      "\n"
     ]
    }
   ],
   "source": [
    "predictions.show(5)"
   ]
  },
  {
   "cell_type": "code",
   "execution_count": 162,
   "metadata": {},
   "outputs": [
    {
     "data": {
      "text/plain": [
       "array([[337,   8],\n",
       "       [  0, 290]], dtype=int64)"
      ]
     },
     "execution_count": 162,
     "metadata": {},
     "output_type": "execute_result"
    }
   ],
   "source": [
    "from sklearn.metrics import confusion_matrix\n",
    "y_true = predictions.select(\"label\")\n",
    "y_true = y_true.toPandas()\n",
    "\n",
    "y_pred = predictions.select(\"predictedLabel\")\n",
    "y_pred = y_pred.toPandas()\n",
    "\n",
    "cnf_matrix = confusion_matrix(y_true, y_pred,labels=class_temp)\n",
    "cnf_matrix"
   ]
  },
  {
   "cell_type": "code",
   "execution_count": 164,
   "metadata": {},
   "outputs": [
    {
     "name": "stdout",
     "output_type": "stream",
     "text": [
      "Confusion matrix, without normalization\n",
      "[[337   8]\n",
      " [  0 290]]\n"
     ]
    },
    {
     "data": {
      "image/png": "[encoded data removed]",
      "text/plain": [
       "<Figure size 432x288 with 2 Axes>"
      ]
     },
     "metadata": {
      "needs_background": "light"
     },
     "output_type": "display_data"
    }
   ],
   "source": [
    "# Plot confusion matrix\n",
    "plt.figure()\n",
    "plot_confusion_matrix(cnf_matrix, classes=class_temp,\n",
    "                      title='Confusion matrix')\n",
    "plt.show()"
   ]
  },
  {
   "cell_type": "code",
   "execution_count": null,
   "metadata": {},
   "outputs": [],
   "source": []
  }
 ],
 "metadata": {
  "kernelspec": {
   "display_name": "Python 3",
   "language": "python",
   "name": "python3"
  },
  "language_info": {
   "codemirror_mode": {
    "name": "ipython",
    "version": 3
   },
   "file_extension": ".py",
   "mimetype": "text/x-python",
   "name": "python",
   "nbconvert_exporter": "python",
   "pygments_lexer": "ipython3",
   "version": "3.8.5"
  }
 },
 "nbformat": 4,
 "nbformat_minor": 4
}
