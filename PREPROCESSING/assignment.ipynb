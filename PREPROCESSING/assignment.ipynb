{
 "cells": [
  {
   "cell_type": "markdown",
   "metadata": {},
   "source": [
    "# Imported Spark SQL and created a session"
   ]
  },
  {
   "cell_type": "code",
   "execution_count": 4,
   "metadata": {},
   "outputs": [],
   "source": [
    "import findspark\n",
    "findspark.init()\n",
    "import pyspark"
   ]
  },
  {
   "cell_type": "code",
   "execution_count": 5,
   "metadata": {},
   "outputs": [],
   "source": [
    "# mengimport modul yang dibutuhkan\n",
    "from pyspark.sql.types import *\n",
    "from pyspark.sql.functions import *\n",
    "from pyspark.sql import SparkSession\n",
    "from pyspark.sql import SQLContext\n",
    "\n",
    "# membuat SparkSession\n",
    "appName = \"Data Preprocessing di Apache Spark\"\n",
    "spark = SparkSession \\\n",
    ".builder \\\n",
    ".appName(appName) \\\n",
    ".config(\"spark.some.config.option\", \"some-value\") \\\n",
    ".getOrCreate()"
   ]
  },
  {
   "cell_type": "markdown",
   "metadata": {},
   "source": [
    "# Loading dataset from file"
   ]
  },
  {
   "cell_type": "code",
   "execution_count": 7,
   "metadata": {},
   "outputs": [
    {
     "name": "stdout",
     "output_type": "stream",
     "text": [
      "+----------+---------+-------+---------------+-------------+--------+--------+\n",
      "|DayofMonth|DayOfWeek|Carrier|OriginAirportID|DestAirportID|DepDelay|ArrDelay|\n",
      "+----------+---------+-------+---------------+-------------+--------+--------+\n",
      "|        19|        5|     DL|          11433|        13303|      -3|       1|\n",
      "|        19|        5|     DL|          14869|        12478|       0|      -8|\n",
      "|        19|        5|     DL|          14057|        14869|      -4|     -15|\n",
      "+----------+---------+-------+---------------+-------------+--------+--------+\n",
      "only showing top 3 rows\n",
      "\n"
     ]
    }
   ],
   "source": [
    "# membuat skema file\n",
    "flightSchema = StructType([\n",
    "StructField(\"DayofMonth\", IntegerType(), False),\n",
    "StructField(\"DayOfWeek\", IntegerType(), False),\n",
    "StructField(\"Carrier\", StringType(), False),\n",
    "StructField(\"OriginAirportID\", IntegerType(), False),\n",
    "StructField(\"DestAirportID\", IntegerType(), False),\n",
    "StructField(\"DepDelay\", IntegerType(), False),\n",
    "StructField(\"ArrDelay\", IntegerType(), False),\n",
    "])\n",
    "\n",
    "# membaca data dari file ke DataFrame\n",
    "flightDataFrame = spark.read.csv('raw-flight-data.csv', schema=flightSchema, header=True)\n",
    "flightDataFrame.show(3)"
   ]
  },
  {
   "cell_type": "code",
   "execution_count": 9,
   "metadata": {},
   "outputs": [
    {
     "name": "stdout",
     "output_type": "stream",
     "text": [
      "+----------+-----------+-----+--------------------+\n",
      "|Airport_ID|       City|State|                Name|\n",
      "+----------+-----------+-----+--------------------+\n",
      "|     10165|Adak Island|   AK|                Adak|\n",
      "|     10299|  Anchorage|   AK|Ted Stevens Ancho...|\n",
      "|     10304|      Aniak|   AK|       Aniak Airport|\n",
      "+----------+-----------+-----+--------------------+\n",
      "only showing top 3 rows\n",
      "\n"
     ]
    }
   ],
   "source": [
    "# membuat skema file\n",
    "airportSchema = StructType([\n",
    "StructField(\"Airport_ID\", IntegerType(), False),\n",
    "StructField(\"City\", StringType(), False),\n",
    "StructField(\"State\", StringType(), False),\n",
    "StructField(\"Name\", StringType(), False),\n",
    "])\n",
    "\n",
    "# membaca data dari file ke DataFrame\n",
    "airportDataFrame = spark.read.csv('airports.csv', schema=airportSchema, header=True)\n",
    "airportDataFrame.show(3)"
   ]
  },
  {
   "cell_type": "markdown",
   "metadata": {},
   "source": [
    "# Merge two dataframes and display the number of flights for each city"
   ]
  },
  {
   "cell_type": "code",
   "execution_count": 10,
   "metadata": {},
   "outputs": [
    {
     "name": "stdout",
     "output_type": "stream",
     "text": [
      "+--------------+-----+\n",
      "|          City|count|\n",
      "+--------------+-----+\n",
      "|       Phoenix|90281|\n",
      "|         Omaha|13537|\n",
      "|Raleigh/Durham|28436|\n",
      "+--------------+-----+\n",
      "only showing top 3 rows\n",
      "\n"
     ]
    }
   ],
   "source": [
    "flightByOrigin = flightDataFrame.join(airportDataFrame,\n",
    "                                     flightDataFrame.OriginAirportID ==\n",
    "                                     airportDataFrame.Airport_ID).groupBy(\"City\").count()\n",
    "flightByOrigin.show(3)"
   ]
  },
  {
   "cell_type": "markdown",
   "metadata": {},
   "source": [
    "# Handle duplicated data"
   ]
  },
  {
   "cell_type": "code",
   "execution_count": 11,
   "metadata": {},
   "outputs": [
    {
     "name": "stdout",
     "output_type": "stream",
     "text": [
      "Jumlah baris data pada DataFrame Flight:  2719418\n",
      "Jumlah baris data setelah data duplikat dihapus:  2696983\n",
      "Jumlah baris data duplikat pada DataFrame Flight:  22435\n"
     ]
    }
   ],
   "source": [
    "# hitung jumlah baris data\n",
    "n1 = flightDataFrame.count()\n",
    "print(\"Jumlah baris data pada DataFrame Flight: \", n1)\n",
    "\n",
    "# hitung jumlah baris data setelah menghapus data duplikat\n",
    "n2 = flightDataFrame.dropDuplicates().count()\n",
    "print(\"Jumlah baris data setelah data duplikat dihapus: \", n2)\n",
    "n3 = n1 - n2\n",
    "print(\"Jumlah baris data duplikat pada DataFrame Flight: \", n3)"
   ]
  },
  {
   "cell_type": "code",
   "execution_count": 13,
   "metadata": {},
   "outputs": [
    {
     "name": "stdout",
     "output_type": "stream",
     "text": [
      "+----+---+------+\n",
      "|name|age|height|\n",
      "+----+---+------+\n",
      "|Rony| 27|   168|\n",
      "|Rony| 15|   165|\n",
      "|Rony| 27|   168|\n",
      "+----+---+------+\n",
      "\n",
      "+----+---+------+\n",
      "|name|age|height|\n",
      "+----+---+------+\n",
      "|Rony| 27|   168|\n",
      "|Rony| 15|   165|\n",
      "+----+---+------+\n",
      "\n"
     ]
    }
   ],
   "source": [
    "# Kita juga bisa membuat kriteria untuk data duplikat berdasar kolom\n",
    "import pandas as pd\n",
    "\n",
    "df_pd = pd.DataFrame(\n",
    "    data={'name': ['Rony','Rony','Rony'],\n",
    "     'age': [27,15,27],\n",
    "     'height': [168,165,168]}\n",
    ")\n",
    "\n",
    "df = spark.createDataFrame(df_pd)\n",
    "df.show()\n",
    "df.dropDuplicates().show()"
   ]
  },
  {
   "cell_type": "code",
   "execution_count": 14,
   "metadata": {},
   "outputs": [
    {
     "name": "stdout",
     "output_type": "stream",
     "text": [
      "+----+---+------+\n",
      "|name|age|height|\n",
      "+----+---+------+\n",
      "|Rony| 27|   168|\n",
      "+----+---+------+\n",
      "\n"
     ]
    }
   ],
   "source": [
    "df.dropDuplicates(['name']).show()"
   ]
  },
  {
   "cell_type": "markdown",
   "metadata": {},
   "source": [
    "# Handle missing data"
   ]
  },
  {
   "cell_type": "code",
   "execution_count": 15,
   "metadata": {},
   "outputs": [
    {
     "name": "stdout",
     "output_type": "stream",
     "text": [
      "Jumlah baris yang memiliki data kosong:  46233\n"
     ]
    }
   ],
   "source": [
    "# Hapus baris jika ada setidaknya satu kolom kosong\n",
    "flightsNoMissingValue = flightDataFrame.dropDuplicates().dropna(\n",
    "    how=\"any\", subset=[\"ArrDelay\", \"DepDelay\"]) # pakai how=\"all\" apabila semua kolom ada yang kosong\n",
    "numberOfMissingValueAny = n1 - flightsNoMissingValue.count()\n",
    "print(\"Jumlah baris yang memiliki data kosong: \", numberOfMissingValueAny)"
   ]
  },
  {
   "cell_type": "code",
   "execution_count": 16,
   "metadata": {},
   "outputs": [
    {
     "name": "stdout",
     "output_type": "stream",
     "text": [
      "Rata-rata kolom ArrDelay:  6.63768791455498\n",
      "Rata-rata kolom DepDelay:  10.53686662649788\n"
     ]
    }
   ],
   "source": [
    "# Mengisi data yang kosong dengan nilai rata-rata pada kolom tersebut\n",
    "meanArrDelay = flightDataFrame.groupBy().avg(\"ArrDelay\").take(1)[0][0]\n",
    "print(\"Rata-rata kolom ArrDelay: \", meanArrDelay)\n",
    "meanDepDelay = flightDataFrame.groupBy().avg(\"DepDelay\").take(1)[0][0]\n",
    "print(\"Rata-rata kolom DepDelay: \", meanDepDelay)\n",
    "\n",
    "# menghapus data duplikat dan mengisi data yang kosong dengan nilai rata-rata pada kolom tersebut\n",
    "flightsCleanData = flightDataFrame.fillna(\n",
    "    {'ArrDelay': meanArrDelay, 'DepDelay': meanDepDelay})"
   ]
  },
  {
   "cell_type": "markdown",
   "metadata": {},
   "source": [
    "# Displays statistics from the dataset"
   ]
  },
  {
   "cell_type": "code",
   "execution_count": 17,
   "metadata": {},
   "outputs": [
    {
     "name": "stdout",
     "output_type": "stream",
     "text": [
      "+-------+------------------+-----------------+\n",
      "|summary|          DepDelay|         ArrDelay|\n",
      "+-------+------------------+-----------------+\n",
      "|  count|           2719418|          2719418|\n",
      "|   mean|10.531448640848888|6.630879842672218|\n",
      "| stddev| 35.91695039008144|38.44200618946895|\n",
      "|    min|               -63|              -94|\n",
      "|    max|              1863|             1845|\n",
      "+-------+------------------+-----------------+\n",
      "\n"
     ]
    }
   ],
   "source": [
    "flightsCleanData.describe('DepDelay','ArrDelay').show()"
   ]
  },
  {
   "cell_type": "code",
   "execution_count": 18,
   "metadata": {},
   "outputs": [
    {
     "name": "stdout",
     "output_type": "stream",
     "text": [
      "Nilai korelasi kolom DepDelay dan ArrDelay:  0.9393538215572638\n"
     ]
    }
   ],
   "source": [
    "# melihat nilai korelasi dari kolom DepDelay dan ArrDelay\n",
    "correlation = flightsCleanData.corr('DepDelay', 'ArrDelay')\n",
    "print(\"Nilai korelasi kolom DepDelay dan ArrDelay: \", correlation)"
   ]
  }
 ],
 "metadata": {
  "kernelspec": {
   "display_name": "Python 3",
   "language": "python",
   "name": "python3"
  },
  "language_info": {
   "codemirror_mode": {
    "name": "ipython",
    "version": 3
   },
   "file_extension": ".py",
   "mimetype": "text/x-python",
   "name": "python",
   "nbconvert_exporter": "python",
   "pygments_lexer": "ipython3",
   "version": "3.8.5"
  }
 },
 "nbformat": 4,
 "nbformat_minor": 4
}
